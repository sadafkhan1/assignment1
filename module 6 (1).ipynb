{
 "cells": [
  {
   "cell_type": "markdown",
   "id": "f3769781-ad08-4f5c-a699-f3e7af7b37e7",
   "metadata": {},
   "source": [
    "ASSIGNMENT_MODULE 6_FUNCTIONS_SADAF KHAN"
   ]
  },
  {
   "cell_type": "markdown",
   "id": "557fd0e4-330b-4f44-9db6-d7266eca31f7",
   "metadata": {},
   "source": [
    "THEORY QUESTIONS"
   ]
  },
  {
   "cell_type": "markdown",
   "id": "cb3944ee-3a6a-4f33-b197-0c20761d15dd",
   "metadata": {},
   "source": [
    "Link :\n",
    "\n",
    "https://docs.google.com/document/d/101qqrax9-dhBDCe97m4rVoXednmi7MhfMo_zUHpAUN0/edit?usp=sharing\n"
   ]
  },
  {
   "cell_type": "markdown",
   "id": "2a70f275-2f9f-417d-8530-bbad92888b18",
   "metadata": {},
   "source": [
    "---\n",
    "PRACTICAL QUESTIONS\n",
    "\n",
    "---\n",
    "\n",
    "Ques. 1  \n",
    "\n",
    "Write a Python function that takes a list of numbers as input and returns the sum of all even numbers in\n",
    "the list.\n"
   ]
  },
  {
   "cell_type": "code",
   "execution_count": 16,
   "id": "abd1b434-63ab-4e0b-88e9-e9b603370d55",
   "metadata": {},
   "outputs": [
    {
     "name": "stdout",
     "output_type": "stream",
     "text": [
      "10 4 66 "
     ]
    }
   ],
   "source": [
    "# list of numbers\n",
    "list1 = [10, 21, 4, 45, 66, 93]\n",
    "\n",
    "# iterating each number in list\n",
    "for num in list1:\n",
    "\n",
    "    # checking condition\n",
    "    if num % 2 == 0:\n",
    "        print(num, end=\" \")\n",
    "\n",
    "        "
   ]
  },
  {
   "cell_type": "markdown",
   "id": "71eba465-e71f-4b47-b151-9e7cbeb58999",
   "metadata": {},
   "source": [
    "---\n",
    "\n",
    "Ques.2\n",
    "\n",
    "Create a Python function that accepts a string and returns the reverse of that string."
   ]
  },
  {
   "cell_type": "code",
   "execution_count": 17,
   "id": "a8a5883b-0ffb-49b4-bd7e-be1a3a35cd8b",
   "metadata": {},
   "outputs": [
    {
     "name": "stdout",
     "output_type": "stream",
     "text": [
      "The original string is : Sadaf Khan is a Data Scientist\n",
      "The reversed string(using loops) is : tsitneicS ataD a si nahK fadaS\n"
     ]
    }
   ],
   "source": [
    "def reverse(s):\n",
    "    str = \"\"\n",
    "    for i in s:\n",
    "        str = i + str\n",
    "    return str\n",
    "\n",
    "s = \"Sadaf Khan is a Data Scientist\"\n",
    "\n",
    "print(\"The original string is : \", end=\"\")\n",
    "print(s)\n",
    "\n",
    "print(\"The reversed string(using loops) is : \", end=\"\")\n",
    "print(reverse(s))\n"
   ]
  },
  {
   "cell_type": "markdown",
   "id": "42c6eccd-4f8b-4fca-a0e4-d4d8cd21870a",
   "metadata": {},
   "source": [
    "---\n",
    "\n",
    "Ques. 3\n",
    "\n",
    "Implement a Python function that takes a list of integers and returns a new list containing the squares of\n",
    "each number."
   ]
  },
  {
   "cell_type": "code",
   "execution_count": 18,
   "id": "464523c4-646e-436d-8481-039aba88a744",
   "metadata": {},
   "outputs": [
    {
     "name": "stdout",
     "output_type": "stream",
     "text": [
      "[1, 4, 9, 16, 25, 36, 49]\n"
     ]
    }
   ],
   "source": [
    "# create a list with 7 integer elements\n",
    "data=[1,2,3,4,5,6,7]\n",
    "\n",
    "result = [i*i for i in data]\n",
    "\n",
    "# display the result\n",
    "print(result)\n"
   ]
  },
  {
   "cell_type": "raw",
   "id": "bfefa25c-884e-4da2-8f5c-ae24f2269d13",
   "metadata": {},
   "source": [
    "---\n",
    "\n",
    "Ques. 4\n",
    "\n",
    " Write a Python function that checks if a given number is prime or not from 1 to 200.\n",
    "\n"
   ]
  },
  {
   "cell_type": "code",
   "execution_count": 19,
   "id": "d23d6254-c513-4a7c-b7c6-3913cff4b795",
   "metadata": {},
   "outputs": [
    {
     "name": "stdout",
     "output_type": "stream",
     "text": [
      "79 is a prime number\n"
     ]
    }
   ],
   "source": [
    "num = 79\n",
    "# Negative numbers, 0 and 1 are not primes\n",
    "if num > 1:\n",
    "\n",
    "    # Iterate from 2 to n // 2\n",
    "    for i in range(2, (num//2)+1):\n",
    "\n",
    "        # If num is divisible by any number between\n",
    "        # 2 and n / 2, it is not prime\n",
    "        if (num % i) == 0:\n",
    "            print(num, \"is not a prime number\")\n",
    "            break\n",
    "    else:\n",
    "        print(num, \"is a prime number\")\n",
    "else:\n",
    "    print(num, \"is not a prime number\")\n"
   ]
  },
  {
   "cell_type": "code",
   "execution_count": 20,
   "id": "a9f7b680-8a5f-43d2-b357-6a6cc14c6944",
   "metadata": {},
   "outputs": [
    {
     "name": "stdout",
     "output_type": "stream",
     "text": [
      "85 is not a prime number\n"
     ]
    }
   ],
   "source": [
    "num = 85\n",
    "# Negative numbers, 0 and 1 are not primes\n",
    "if num > 1:\n",
    "\n",
    "    # Iterate from 2 to n // 2\n",
    "    for i in range(2, (num//2)+1):\n",
    "\n",
    "        # If num is divisible by any number between\n",
    "        # 2 and n / 2, it is not prime\n",
    "        if (num % i) == 0:\n",
    "            print(num, \"is not a prime number\")\n",
    "            break\n",
    "    else:\n",
    "        print(num, \"is a prime number\")\n",
    "else:\n",
    "    print(num, \"is not a prime number\")\n"
   ]
  },
  {
   "cell_type": "raw",
   "id": "8ce4b1f8-ef95-4446-9a1c-c7140c9d7d7b",
   "metadata": {},
   "source": [
    "---\n",
    "\n",
    "Ques. 5\n",
    "\n",
    "Create an iterator class in Python that generates the Fibonacci sequence up to a specified number of\n",
    "terms.\n"
   ]
  },
  {
   "cell_type": "code",
   "execution_count": 21,
   "id": "486234a6-031c-407f-9eff-60a8998c0097",
   "metadata": {},
   "outputs": [
    {
     "name": "stdout",
     "output_type": "stream",
     "text": [
      "34\n"
     ]
    }
   ],
   "source": [
    "\n",
    "def Fibonacci(n):\n",
    "\tif n<= 0:\n",
    "\t\tprint(\"Incorrect input\")\n",
    "\t# First Fibonacci number is 0\n",
    "\telif n == 1:\n",
    "\t\treturn 0\n",
    "\t# Second Fibonacci number is 1\n",
    "\telif n == 2:\n",
    "\t\treturn 1\n",
    "\telse:\n",
    "\t\treturn Fibonacci(n-1)+Fibonacci(n-2)\n",
    "\n",
    "# Driver Program\n",
    "\n",
    "print(Fibonacci(10))\n"
   ]
  },
  {
   "cell_type": "code",
   "execution_count": 22,
   "id": "79c76902-f084-4464-b5a7-8f691e563863",
   "metadata": {},
   "outputs": [
    {
     "name": "stdout",
     "output_type": "stream",
     "text": [
      "6765\n"
     ]
    }
   ],
   "source": [
    "\n",
    "def Fibonacci(n):\n",
    "\tif n<= 0:\n",
    "\t\tprint(\"Incorrect input\")\n",
    "\t# First Fibonacci number is 0\n",
    "\telif n == 1:\n",
    "\t\treturn 0\n",
    "\t# Second Fibonacci number is 1\n",
    "\telif n == 2:\n",
    "\t\treturn 1\n",
    "\telse:\n",
    "\t\treturn Fibonacci(n-1)+Fibonacci(n-2)\n",
    "\n",
    "# Driver Program\n",
    "\n",
    "print(Fibonacci(21))\n"
   ]
  },
  {
   "cell_type": "raw",
   "id": "06ad5156-37cc-415c-81ce-2937acb62345",
   "metadata": {},
   "source": [
    "---\n",
    "\n",
    "Ques. 6\n",
    "\n",
    "Write a generator function in Python that yields the powers of 2 up to a given exponent.\n",
    "\n"
   ]
  },
  {
   "cell_type": "code",
   "execution_count": 25,
   "id": "9be7ea48-9321-44a6-b209-470cf2550d0a",
   "metadata": {},
   "outputs": [
    {
     "name": "stdin",
     "output_type": "stream",
     "text": [
      "Input the base number:  4\n",
      "Input the exponent:  6\n"
     ]
    },
    {
     "name": "stdout",
     "output_type": "stream",
     "text": [
      "Powers of 4 up to exponent 6:\n",
      "1\n",
      "4\n",
      "16\n",
      "64\n",
      "256\n",
      "1024\n",
      "4096\n"
     ]
    }
   ],
   "source": [
    "def power_generator(base, exponent):\n",
    "    result = 1\n",
    "    for i in range(exponent + 1):\n",
    "        yield result\n",
    "        result *= base\n",
    "\n",
    "# Accept input from the user\n",
    "base = int(input(\"Input the base number: \"))\n",
    "exponent = int(input(\"Input the exponent: \"))\n",
    "\n",
    "# Create the generator object\n",
    "power_gen = power_generator(base, exponent)\n",
    "\n",
    "# Generate and print the powers\n",
    "print(f\"Powers of {base} up to exponent {exponent}:\")\n",
    "for power in power_gen:\n",
    "    print(power)"
   ]
  },
  {
   "cell_type": "code",
   "execution_count": 9,
   "id": "f41a559e-30c2-42a2-80b6-4d63f047fd69",
   "metadata": {},
   "outputs": [
    {
     "name": "stdin",
     "output_type": "stream",
     "text": [
      "Input the base number:  11\n",
      "Input the exponent:  3\n"
     ]
    },
    {
     "name": "stdout",
     "output_type": "stream",
     "text": [
      "Powers of 11 up to exponent 3:\n",
      "1\n",
      "11\n",
      "121\n",
      "1331\n"
     ]
    }
   ],
   "source": [
    "def power_generator(base, exponent):\n",
    "    result = 1\n",
    "    for i in range(exponent + 1):\n",
    "        yield result\n",
    "        result *= base\n",
    "\n",
    "# Accept input from the user\n",
    "base = int(input(\"Input the base number: \"))\n",
    "exponent = int(input(\"Input the exponent: \"))\n",
    "\n",
    "# Create the generator object\n",
    "power_gen = power_generator(base, exponent)\n",
    "\n",
    "# Generate and print the powers\n",
    "print(f\"Powers of {base} up to exponent {exponent}:\")\n",
    "for power in power_gen:\n",
    "    print(power)"
   ]
  },
  {
   "cell_type": "raw",
   "id": "c78addd3-6748-4d78-9798-47bb741e9517",
   "metadata": {},
   "source": [
    "---\n",
    "\n",
    "Ques. 7\n",
    "\n",
    "Implement a generator function that reads a file line by line and yields each line as a string.\n",
    "\n"
   ]
  },
  {
   "cell_type": "code",
   "execution_count": 26,
   "id": "b1afff4c-65bb-4e72-b468-5ea472d72bee",
   "metadata": {},
   "outputs": [
    {
     "name": "stdout",
     "output_type": "stream",
     "text": [
      "Line1: THE\n",
      "Line2: SADAF\n",
      "Line3: KHAN\n"
     ]
    }
   ],
   "source": [
    "\n",
    "L = [\"THE\\n\", \"SADAF\\n\", \"KHAN\\n\"]\n",
    "\n",
    "# writing to file\n",
    "file1 = open('myfile.txt', 'w')\n",
    "file1.writelines(L)\n",
    "file1.close()\n",
    "\n",
    "# Using readlines()\n",
    "file1 = open('myfile.txt', 'r')\n",
    "Lines = file1.readlines()\n",
    "\n",
    "count = 0\n",
    "# Strips the newline character\n",
    "for line in Lines:\n",
    "    count += 1\n",
    "    print(\"Line{}: {}\".format(count, line.strip()))\n"
   ]
  },
  {
   "cell_type": "raw",
   "id": "bd362428-b400-41c1-8aae-94756eb69515",
   "metadata": {},
   "source": [
    "---\n",
    "\n",
    "Ques. 8\n",
    "\n",
    "Use a lambda function in Python to sort a list of tuples based on the second element of each tuple."
   ]
  },
  {
   "cell_type": "code",
   "execution_count": 27,
   "id": "0d41cee9-2222-4948-8da6-b9efd9fadfc9",
   "metadata": {},
   "outputs": [
    {
     "data": {
      "text/plain": [
       "['brinjal', 'onion', 'potato', 'spinach', 'tomato']"
      ]
     },
     "execution_count": 27,
     "metadata": {},
     "output_type": "execute_result"
    }
   ],
   "source": [
    "x = [ \"brinjal\" , \"potato\" , \"tomato\" , \"onion\" , \"spinach\" ]\n",
    "sorted(x)"
   ]
  },
  {
   "cell_type": "raw",
   "id": "94737055-7e62-4329-95a8-c47f0da30b0f",
   "metadata": {},
   "source": [
    "---\n",
    "\n",
    "Ques. 9\n",
    "\n",
    "Write a Python program that uses `map()` to convert a list of temperatures from Celsius to Fahrenheit."
   ]
  },
  {
   "cell_type": "code",
   "execution_count": 28,
   "id": "4122e038-1376-4d0b-9e80-c915f5fa5d64",
   "metadata": {},
   "outputs": [
    {
     "name": "stdout",
     "output_type": "stream",
     "text": [
      "49.00 Celsius is equivalent to: 120.20 Fahrenheit\n"
     ]
    }
   ],
   "source": [
    "# Temperature in celsius degree\n",
    "celsius = 49\n",
    "\n",
    "# Converting the temperature to\n",
    "# fehrenheit using the formula\n",
    "fahrenheit = (celsius * 1.8) + 32\n",
    "\n",
    "# printing the result\n",
    "print('%.2f Celsius is equivalent to: %.2f Fahrenheit'\n",
    "\t% (celsius, fahrenheit))\n"
   ]
  },
  {
   "cell_type": "raw",
   "id": "32af329f-c64d-4aba-9e91-dee206c18dca",
   "metadata": {},
   "source": [
    "---\n",
    "\n",
    "Ques. 10\n",
    "\n",
    "\n",
    "Create a Python program that uses `filter()` to remove all the vowels from a given string."
   ]
  },
  {
   "cell_type": "code",
   "execution_count": 29,
   "id": "51fd8ce3-0404-422f-8f0d-44f45e69e296",
   "metadata": {},
   "outputs": [
    {
     "name": "stdout",
     "output_type": "stream",
     "text": [
      " Hnsty s th bst plcy\n",
      "sdf khn\n"
     ]
    }
   ],
   "source": [
    "\n",
    "def rem_vowel(string):\n",
    "\tvowels = ['a','e','i','o','u']\n",
    "\tresult = [letter for letter in string if letter.lower() not in vowels]\n",
    "\tresult = ''.join(result)\n",
    "\tprint(result)\n",
    "\n",
    "# Driver program\n",
    "string = \" Honesty is the best policy\"\n",
    "rem_vowel(string)\n",
    "string = \"sadaf khan\"\n",
    "rem_vowel(string)\n"
   ]
  },
  {
   "cell_type": "raw",
   "id": "f93604c5-17e8-444a-ab2b-cbf8768964a5",
   "metadata": {},
   "source": [
    "---\n",
    "\n",
    "Ques. 11\n",
    "\n",
    "Imagine an accounting routine used in a book shop. It works on a list with sublists, which look like this:\n",
    "\n",
    "Write a Python program, which returns a list with 2-tuples. Each tuple consists of the order number and the\n",
    "product of the price per item and the quantity. The product should be increased by 10,- € if the value of the\n",
    "order is smaller than 100,00 €.\n"
   ]
  },
  {
   "cell_type": "code",
   "execution_count": 30,
   "id": "0099c078-3c7f-4326-8789-a3d5dd235595",
   "metadata": {},
   "outputs": [
    {
     "name": "stdout",
     "output_type": "stream",
     "text": [
      "[('34587', 163.8), ('98762', 284.0), ('77226', 108.85000000000001), ('88112', 84.97)]\n"
     ]
    }
   ],
   "source": [
    "orders = [ [\"34587\", \"Learning Python, Mark Lutz\",            4, 40.95], \n",
    "          [\"98762\", \"Programming Python, Mark Lutz\",   5, 56.80],\n",
    "          [\"77226\", \"Head First Python, Paul Barry\",        3,32.95],  \n",
    "          [\"88112\", \"Einführung in Python3, Bernd Klein\", \t3, 24.99]]\n",
    "\n",
    "# Define the minimum order total\n",
    "min_order = 100  # Set this to the desired minimum order value\n",
    "\n",
    "invoice_totals = list(map(lambda x: x if x[1] >= min_order else (x[0], x[1] + 10),\n",
    "                          map(lambda x: (x[0],x[2] * x[3]), orders)))\n",
    "\n",
    "print(invoice_totals)"
   ]
  },
  {
   "cell_type": "raw",
   "id": "a1a481bd-9b44-494e-bd38-5e32787be38c",
   "metadata": {},
   "source": [
    "FINISHED"
   ]
  },
  {
   "cell_type": "code",
   "execution_count": null,
   "id": "cac3fa44-97c4-4470-bbd4-f9be4dc488b3",
   "metadata": {},
   "outputs": [],
   "source": []
  }
 ],
 "metadata": {
  "kernelspec": {
   "display_name": "Python 3 (ipykernel)",
   "language": "python",
   "name": "python3"
  },
  "language_info": {
   "codemirror_mode": {
    "name": "ipython",
    "version": 3
   },
   "file_extension": ".py",
   "mimetype": "text/x-python",
   "name": "python",
   "nbconvert_exporter": "python",
   "pygments_lexer": "ipython3",
   "version": "3.10.8"
  }
 },
 "nbformat": 4,
 "nbformat_minor": 5
}
